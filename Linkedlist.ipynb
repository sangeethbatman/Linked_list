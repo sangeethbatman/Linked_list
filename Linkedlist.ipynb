{
 "cells": [
  {
   "cell_type": "code",
   "execution_count": 11,
   "metadata": {},
   "outputs": [
    {
     "name": "stdout",
     "output_type": "stream",
     "text": [
      " Node 12 added to the beginning of linked list\n",
      " Node 122 added to the beginning of linked list\n",
      " Node 3 added to the beginning of linked list\n",
      "Node 31 is added at the end of the linked list\n",
      "3\n",
      "31\n"
     ]
    },
    {
     "ename": "AttributeError",
     "evalue": "'Node' object has no attribute 'next'",
     "output_type": "error",
     "traceback": [
      "\u001b[1;31m---------------------------------------------------------------------------\u001b[0m",
      "\u001b[1;31mAttributeError\u001b[0m                            Traceback (most recent call last)",
      "\u001b[1;32m<ipython-input-11-15d32088b288>\u001b[0m in \u001b[0;36m<module>\u001b[1;34m\u001b[0m\n\u001b[0;32m     68\u001b[0m     \u001b[0mprint\u001b[0m\u001b[1;33m(\u001b[0m\u001b[0mlinked_List\u001b[0m\u001b[1;33m.\u001b[0m\u001b[0minsertend\u001b[0m\u001b[1;33m(\u001b[0m\u001b[1;36m31\u001b[0m\u001b[1;33m)\u001b[0m\u001b[1;33m)\u001b[0m                       \u001b[1;31m# Insert 31;   LL: 3 -> 122 -> 12 -> 31\u001b[0m\u001b[1;33m\u001b[0m\u001b[1;33m\u001b[0m\u001b[0m\n\u001b[0;32m     69\u001b[0m     \u001b[0mlinked_List\u001b[0m\u001b[1;33m.\u001b[0m\u001b[0mdisplay\u001b[0m\u001b[1;33m(\u001b[0m\u001b[1;33m)\u001b[0m\u001b[1;33m\u001b[0m\u001b[1;33m\u001b[0m\u001b[0m\n\u001b[1;32m---> 70\u001b[1;33m     \u001b[0mprint\u001b[0m\u001b[1;33m(\u001b[0m\u001b[1;34m'Size of Linked List: '\u001b[0m\u001b[1;33m,\u001b[0m\u001b[0mlinked_List\u001b[0m\u001b[1;33m.\u001b[0m\u001b[0mcounting\u001b[0m\u001b[1;33m(\u001b[0m\u001b[1;33m)\u001b[0m\u001b[1;33m)\u001b[0m\u001b[1;33m\u001b[0m\u001b[1;33m\u001b[0m\u001b[0m\n\u001b[0m\u001b[0;32m     71\u001b[0m     \u001b[0mprint\u001b[0m\u001b[1;33m(\u001b[0m\u001b[0mlinked_List\u001b[0m\u001b[1;33m.\u001b[0m\u001b[0mremovenode\u001b[0m\u001b[1;33m(\u001b[0m\u001b[1;36m31\u001b[0m\u001b[1;33m)\u001b[0m\u001b[1;33m)\u001b[0m\u001b[1;33m\u001b[0m\u001b[1;33m\u001b[0m\u001b[0m\n\u001b[0;32m     72\u001b[0m     \u001b[0mprint\u001b[0m\u001b[1;33m(\u001b[0m\u001b[1;34m'Size of new Linked List: '\u001b[0m\u001b[1;33m,\u001b[0m\u001b[0mlinked_List\u001b[0m\u001b[1;33m.\u001b[0m\u001b[0mcounting\u001b[0m\u001b[1;33m(\u001b[0m\u001b[1;33m)\u001b[0m\u001b[1;33m)\u001b[0m\u001b[1;33m\u001b[0m\u001b[1;33m\u001b[0m\u001b[0m\n",
      "\u001b[1;32m<ipython-input-11-15d32088b288>\u001b[0m in \u001b[0;36mcounting\u001b[1;34m(self)\u001b[0m\n\u001b[0;32m     23\u001b[0m         \u001b[0mcount\u001b[0m\u001b[1;33m=\u001b[0m\u001b[1;36m0\u001b[0m\u001b[1;33m\u001b[0m\u001b[1;33m\u001b[0m\u001b[0m\n\u001b[0;32m     24\u001b[0m         \u001b[1;32mwhile\u001b[0m \u001b[0mactualnode\u001b[0m \u001b[1;32mis\u001b[0m \u001b[1;32mnot\u001b[0m \u001b[1;32mNone\u001b[0m\u001b[1;33m:\u001b[0m\u001b[1;33m\u001b[0m\u001b[1;33m\u001b[0m\u001b[0m\n\u001b[1;32m---> 25\u001b[1;33m             \u001b[0mactualnode\u001b[0m\u001b[1;33m=\u001b[0m\u001b[0mactualnode\u001b[0m\u001b[1;33m.\u001b[0m\u001b[0mnext\u001b[0m\u001b[1;33m\u001b[0m\u001b[1;33m\u001b[0m\u001b[0m\n\u001b[0m\u001b[0;32m     26\u001b[0m             \u001b[0mcount\u001b[0m\u001b[1;33m+=\u001b[0m\u001b[1;36m1\u001b[0m\u001b[1;33m\u001b[0m\u001b[1;33m\u001b[0m\u001b[0m\n\u001b[0;32m     27\u001b[0m         \u001b[1;32mreturn\u001b[0m \u001b[0mcount\u001b[0m\u001b[1;33m\u001b[0m\u001b[1;33m\u001b[0m\u001b[0m\n",
      "\u001b[1;31mAttributeError\u001b[0m: 'Node' object has no attribute 'next'"
     ]
    }
   ],
   "source": [
    "class Node:  #linked list node class\n",
    "    def __init__(self,data):\n",
    "        self.data=data\n",
    "        self.nextNode=None\n",
    "class LinkedList:    #class linked list\n",
    "    def __init__(self):\n",
    "        self.head=None\n",
    "        self.size=0\n",
    "# -------------------Insertion at starting of linked list--------------------#\n",
    "    def insertstart(self,data):\n",
    "        self.size+=1\n",
    "        newNode=Node(data)\n",
    "        if not self.head:\n",
    "            self.head=newNode\n",
    "        else:\n",
    "            newNode.next=self.head\n",
    "            self.head=newNode\n",
    "        return ' Node {} added to the beginning of linked list'.format(data)     \n",
    "\n",
    "#-------------------- To find size of linked list--------------------------#\n",
    "    def counting(self):\n",
    "        actualnode=self.head\n",
    "        count=0\n",
    "        while actualnode is not None:\n",
    "            actualnode=actualnode.next\n",
    "            count+=1\n",
    "        return count\n",
    "    \n",
    "#------------------Inserting at end of the linked list-----------------#\n",
    "    def insertend(self,data):\n",
    "        self.size+=1\n",
    "        newNode=Node(data)\n",
    "        actualnode=self.head\n",
    "        while actualnode.nextNode is not None:\n",
    "            actualnode=actualnode.nextNode\n",
    "        actualnode.nextNode=newNode\n",
    "        return 'Node {} is added at the end of the linked list'.format(data)\n",
    "    \n",
    "#-----------------Deleting a node in the linked list---------------------#\n",
    "    def removenode(self,data):\n",
    "        if self.head==None:\n",
    "            return None\n",
    "        self.size-=1\n",
    "        currentnode=self.head\n",
    "        previousnode=None\n",
    "        while currentnode.data!=data:\n",
    "            previousnode=currentnode\n",
    "            currentnode=currentnode.next\n",
    "        if previousnode is None:\n",
    "            self.head=current.next\n",
    "        else:\n",
    "            previousnode.next=currentnode.next\n",
    "        return 'node {} removed from the linked list'.format(data)\n",
    "    \n",
    "#-------------------Printing the elements of linked list------------------#\n",
    "    def display(self):\n",
    "        actualnode=self.head\n",
    "        while actualnode is not None:\n",
    "            print(actualnode.data)\n",
    "            actualnode=actualnode.nextNode\n",
    "            \n",
    "#--------------------Testing the linked list data structure----------------#\n",
    "if __name__=='__main__':\n",
    "    linked_List=LinkedList()\n",
    "    print(linked_List.insertstart(12))                     # Insert 12 at starting of Linked List\n",
    "    print(linked_List.insertstart(122))                    # Insert 122;  LL: 122 -> 12\n",
    "    print(linked_List.insertstart(3))                      # Insert 3;    LL: 3 -> 122 -> 12\n",
    "    print(linked_List.insertend(31))                       # Insert 31;   LL: 3 -> 122 -> 12 -> 31\n",
    "    linked_List.display()\n",
    "    print('Size of Linked List: ',linked_List.counting())\n",
    "    print(linked_List.removenode(31))\n",
    "    print('Size of new Linked List: ',linked_List.counting())\n",
    "    \n",
    "        "
   ]
  },
  {
   "cell_type": "code",
   "execution_count": null,
   "metadata": {},
   "outputs": [],
   "source": []
  }
 ],
 "metadata": {
  "kernelspec": {
   "display_name": "Python 3",
   "language": "python",
   "name": "python3"
  },
  "language_info": {
   "codemirror_mode": {
    "name": "ipython",
    "version": 3
   },
   "file_extension": ".py",
   "mimetype": "text/x-python",
   "name": "python",
   "nbconvert_exporter": "python",
   "pygments_lexer": "ipython3",
   "version": "3.6.9"
  }
 },
 "nbformat": 4,
 "nbformat_minor": 2
}
